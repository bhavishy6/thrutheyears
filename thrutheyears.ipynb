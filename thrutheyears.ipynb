{
 "cells": [
  {
   "cell_type": "code",
   "execution_count": 20,
   "metadata": {},
   "outputs": [],
   "source": [
    "import pandas as pd\n",
    "import requests\n",
    "from bs4 import BeautifulSoup\n",
    "import secrets"
   ]
  },
  {
   "cell_type": "code",
   "execution_count": 21,
   "metadata": {
    "collapsed": true
   },
   "outputs": [
    {
     "output_type": "stream",
     "name": "stdout",
     "text": "{'title': 'Old Town Road', 'artist': 'Lil Nas X Featuring Billy Ray Cyrus'}\n{'title': 'Sunflower (Spider-Man: Into The Spider-Verse)', 'artist': 'Post Malone & Swae Lee'}\n{'title': 'Without Me', 'artist': 'Halsey'}\n{'title': 'Bad Guy', 'artist': 'Billie Eilish'}\n{'title': 'Wow.', 'artist': 'Post Malone'}\n{'title': 'Happier', 'artist': 'Marshmello & Bastille'}\n{'title': '7 Rings', 'artist': 'Ariana Grande'}\n{'title': 'Talk', 'artist': ' Khalid'}\n{'title': 'Sicko Mode', 'artist': 'Travis Scott'}\n{'title': 'Sucker', 'artist': 'Jonas Brothers'}\n{'title': 'High Hopes', 'artist': 'Panic! At The Disco'}\n{'title': 'Thank U, Next', 'artist': 'Ariana Grande'}\n{'title': 'Truth Hurts', 'artist': 'Lizzo'}\n{'title': 'Dancing With A Stranger', 'artist': 'Sam Smith & Normani'}\n{'title': 'Senorita', 'artist': 'Shawn Mendes & Camila Cabello'}\n{'title': \"I Don't Care\", 'artist': 'Ed Sheeran & Justin Bieber'}\n{'title': 'Eastside', 'artist': 'benny blanco, Halsey & Khalid'}\n{'title': 'Going Bad', 'artist': 'Meek Mill Featuring Drake'}\n{'title': 'Shallow', 'artist': 'Lady Gaga & Bradley Cooper'}\n{'title': 'Better', 'artist': 'Khalid'}\n{'title': 'No Guidance', 'artist': 'Chris Brown Featuring Drake'}\n{'title': 'Girls Like You', 'artist': 'Maroon 5 Featuring Cardi B'}\n{'title': 'Sweet But Psycho', 'artist': 'Ava Max'}\n{'title': 'Suge', 'artist': 'DaBaby'}\n{'title': 'Middle Child', 'artist': 'J. Cole'}\n{'title': 'Drip Too Hard', 'artist': 'Lil Baby & Gunna'}\n{'title': 'Someone You Loved', 'artist': 'Lewis Capaldi'}\n{'title': 'Ran$om', 'artist': 'Lil Tecca'}\n{'title': \"If I Can't Have You\", 'artist': 'Shawn Mendes'}\n{'title': 'Goodbyes', 'artist': 'Post Malone Featuring Young Thug'}\n{'title': 'ZEZE', 'artist': 'Kodak Black Featuring Travis Scott & Offset'}\n{'title': 'Better Now', 'artist': 'Post Malone'}\n{'title': 'Youngblood', 'artist': '5 Seconds Of Summer'}\n{'title': 'Money In The Grave', 'artist': 'Drake Featuring Rick Ross'}\n{'title': 'Speechless', 'artist': 'Dan + Shay'}\n{'title': \"Break Up With Your Girlfriend, I'm Bored\", 'artist': 'Ariana Grande'}\n{'title': 'Please Me', 'artist': 'Cardi B & Bruno Mars'}\n{'title': 'Money', 'artist': 'Cardi B'}\n{'title': 'You Need To Calm Down', 'artist': 'Taylor Swift'}\n{'title': 'Panini', 'artist': 'Lil Nas X'}\n{'title': 'Look Back At It', 'artist': 'A Boogie Wit da Hoodie'}\n{'title': 'A Lot', 'artist': '21 Savage'}\n{'title': 'ME!', 'artist': 'Taylor Swift Featuring Brendon Urie'}\n{'title': 'MIA', 'artist': ' Bad Bunny Featuring Drake'}\n{'title': 'Pop Out', 'artist': 'Polo G Featuring Lil Tjay'}\n{'title': 'Beautiful Crazy', 'artist': 'Luke Combs'}\n{'title': 'Thotiana', 'artist': 'Blueface'}\n{'title': 'Lucid Dreams', 'artist': 'Juice WRLD'}\n{'title': 'Mo Bamba', 'artist': 'Sheck Wes'}\n{'title': 'Beautiful People', 'artist': 'Ed Sheeran Featuring Khalid'}\n{'title': 'Wake Up In The Sky', 'artist': 'Gucci Mane X Bruno Mars X Kodak Black'}\n{'title': 'Whiskey Glasses', 'artist': 'Morgan Wallen'}\n{'title': \"God's Country\", 'artist': 'Blake Shelton'}\n{'title': 'Be Alright', 'artist': 'Dean Lewis'}\n{'title': 'Pure Water', 'artist': 'Mustard & Migos'}\n{'title': 'The Git Up', 'artist': 'Blanco Brown'}\n{'title': 'Taki Taki', 'artist': 'DJ Snake Featuring Selena Gomez, Ozuna & Cardi B'}\n{'title': 'Close To Me', 'artist': ' Ellie Goulding X Diplo Featuring Swae Lee'}\n{'title': 'Envy Me', 'artist': 'Calboy'}\n{'title': 'You Say', 'artist': 'Lauren Daigle'}\n{'title': 'Hey Look Ma, I Made It', 'artist': 'Panic! At The Disco'}\n{'title': 'Circles', 'artist': 'Post Malone'}\n{'title': 'Beer Never Broke My Heart', 'artist': 'Luke Combs'}\n{'title': ' The London', 'artist': 'Young Thug, J. Cole & Travis Scott'}\n{'title': 'Con Calma', 'artist': 'Daddy Yankee & Katy Perry Featuring Snow'}\n{'title': 'Murder On My Mind', 'artist': 'YNW Melly'}\n{'title': \"When The Party's Over\", 'artist': 'Billie Eilish'}\n{'title': 'Act Up', 'artist': 'City Girls'}\n{'title': 'I Like It', 'artist': 'Cardi B, Bad Bunny & J Balvin'}\n{'title': 'Trampoline', 'artist': 'SHAED'}\n{'title': 'Leave Me Alone', 'artist': 'Flipp Dinero'}\n{'title': 'Breathin', 'artist': 'Ariana Grande'}\n{'title': 'Bury A Friend', 'artist': 'Billie Eilish'}\n{'title': 'Close Friends', 'artist': 'Lil Baby'}\n{'title': 'Baby Shark', 'artist': 'Pinkfong'}\n{'title': 'My Type', 'artist': 'Saweetie'}\n{'title': 'Worth It', 'artist': 'YK Osiris'}\n{'title': 'Only Human', 'artist': 'Jonas Brothers'}\n{'title': \"Knockin' Boots\", 'artist': 'Luke Bryan'}\n{'title': 'Trip', 'artist': 'Ella Mai'}\n{'title': 'Rumor', 'artist': 'Lee Brice'}\n{'title': 'Swervin', 'artist': 'A Boogie Wit da Hoodie Featuring 6ix9ine'}\n{'title': 'How Do You Sleep?', 'artist': 'Sam Smith'}\n{'title': 'Baby', 'artist': 'Lil Baby & DaBaby'}\n{'title': 'Look What God Gave Her', 'artist': 'Thomas Rhett'}\n{'title': 'Good As You', 'artist': 'Kane Brown'}\n{'title': 'Clout', 'artist': 'Offset Featuring Cardi B'}\n{'title': 'Love Lies', 'artist': 'Khalid & Normani'}\n{'title': 'One Thing Right', 'artist': 'Marshmello & Kane Brown'}\n{'title': 'Cash Shit', 'artist': 'Megan Thee Stallion Featuring DaBaby'}\n{'title': 'Tequila', 'artist': 'Dan + Shay'}\n{'title': 'Shotta Flow', 'artist': 'NLE Choppa'}\n{'title': 'Hot Girl Summer', 'artist': 'Megan Thee Stallion, Nicki Minaj & Ty Dolla $ign'}\n{'title': 'Talk You Out Of It', 'artist': 'Florida Georgia Line'}\n{'title': 'Beautiful', 'artist': 'Bazzi Featuring Camila Cabello'}\n{'title': 'Eyes On You', 'artist': 'Chase Rice'}\n{'title': 'All To Myself', 'artist': 'Dan + Shay'}\n{'title': 'Boyfriend', 'artist': 'Ariana Grande & Social House'}\n{'title': 'Walk Me Home', 'artist': 'P!nk'}\n{'title': 'Robbery', 'artist': 'Juice WRLD'}\n"
    }
   ],
   "source": [
    "url = \"https://www.billboard.com/charts/year-end/2019/hot-100-songs\"\n",
    "billboard_page = requests.get(url)\n",
    "soup = BeautifulSoup(billboard_page.text, \"html.parser\")\n",
    "titles = [div.text for div in soup.find_all(\"div\", \"ye-chart-item__title\")]\n",
    "ranks = [div.text for div in soup.find_all(\"div\", \"ye-chart-item__rank\")]\n",
    "artists = [div.text for div in soup.find_all(\"div\", \"ye-chart-item__artist\")]\n",
    "\n",
    "top_songs = []\n",
    "for i in range(0, len(ranks)):\n",
    "    top_songs.append({\"title\": titles[i].replace(\"\\n\", \"\"), \"artist\": artists[i].replace(\"\\n\", \"\")})\n",
    "    print(top_songs[i])"
   ]
  },
  {
   "cell_type": "code",
   "execution_count": 26,
   "metadata": {},
   "outputs": [],
   "source": [
    "def request_song_info(song_title, artist_name):\n",
    "    base_url = 'https://api.genius.com'\n",
    "    headers = {'Authorization': 'Bearer ' + secrets.GENIUS_ACCESS_TOKEN}\n",
    "    search_url = base_url + '/search'\n",
    "    data = {'q': song_title + ' ' + artist_name}\n",
    "    response = requests.get(search_url, data=data, headers=headers)\n",
    "\n",
    "    return response"
   ]
  },
  {
   "cell_type": "code",
   "execution_count": 27,
   "metadata": {},
   "outputs": [
    {
     "output_type": "error",
     "ename": "AttributeError",
     "evalue": "module 'secrets' has no attribute 'GENIUS_ACCESS_TOKEN'",
     "traceback": [
      "\u001b[1;31m---------------------------------------------------------------------------\u001b[0m",
      "\u001b[1;31mAttributeError\u001b[0m                            Traceback (most recent call last)",
      "\u001b[1;32m<ipython-input-27-649e40046c42>\u001b[0m in \u001b[0;36m<module>\u001b[1;34m\u001b[0m\n\u001b[1;32m----> 1\u001b[1;33m \u001b[0mprint\u001b[0m\u001b[1;33m(\u001b[0m\u001b[0mrequest_song_info\u001b[0m\u001b[1;33m(\u001b[0m\u001b[0mtop_songs\u001b[0m\u001b[1;33m[\u001b[0m\u001b[0mi\u001b[0m\u001b[1;33m]\u001b[0m\u001b[1;33m[\u001b[0m\u001b[1;34m\"title\"\u001b[0m\u001b[1;33m]\u001b[0m\u001b[1;33m,\u001b[0m \u001b[0mtop_songs\u001b[0m\u001b[1;33m[\u001b[0m\u001b[0mi\u001b[0m\u001b[1;33m]\u001b[0m\u001b[1;33m[\u001b[0m\u001b[1;34m\"artist\"\u001b[0m\u001b[1;33m]\u001b[0m\u001b[1;33m)\u001b[0m\u001b[1;33m)\u001b[0m\u001b[1;33m\u001b[0m\u001b[1;33m\u001b[0m\u001b[0m\n\u001b[0m",
      "\u001b[1;32m<ipython-input-26-c40efb459336>\u001b[0m in \u001b[0;36mrequest_song_info\u001b[1;34m(song_title, artist_name)\u001b[0m\n\u001b[0;32m      1\u001b[0m \u001b[1;32mdef\u001b[0m \u001b[0mrequest_song_info\u001b[0m\u001b[1;33m(\u001b[0m\u001b[0msong_title\u001b[0m\u001b[1;33m,\u001b[0m \u001b[0martist_name\u001b[0m\u001b[1;33m)\u001b[0m\u001b[1;33m:\u001b[0m\u001b[1;33m\u001b[0m\u001b[1;33m\u001b[0m\u001b[0m\n\u001b[0;32m      2\u001b[0m     \u001b[0mbase_url\u001b[0m \u001b[1;33m=\u001b[0m \u001b[1;34m'https://api.genius.com'\u001b[0m\u001b[1;33m\u001b[0m\u001b[1;33m\u001b[0m\u001b[0m\n\u001b[1;32m----> 3\u001b[1;33m     \u001b[0mheaders\u001b[0m \u001b[1;33m=\u001b[0m \u001b[1;33m{\u001b[0m\u001b[1;34m'Authorization'\u001b[0m\u001b[1;33m:\u001b[0m \u001b[1;34m'Bearer '\u001b[0m \u001b[1;33m+\u001b[0m \u001b[0msecrets\u001b[0m\u001b[1;33m.\u001b[0m\u001b[0mGENIUS_ACCESS_TOKEN\u001b[0m\u001b[1;33m}\u001b[0m\u001b[1;33m\u001b[0m\u001b[1;33m\u001b[0m\u001b[0m\n\u001b[0m\u001b[0;32m      4\u001b[0m     \u001b[0msearch_url\u001b[0m \u001b[1;33m=\u001b[0m \u001b[0mbase_url\u001b[0m \u001b[1;33m+\u001b[0m \u001b[1;34m'/search'\u001b[0m\u001b[1;33m\u001b[0m\u001b[1;33m\u001b[0m\u001b[0m\n\u001b[0;32m      5\u001b[0m     \u001b[0mdata\u001b[0m \u001b[1;33m=\u001b[0m \u001b[1;33m{\u001b[0m\u001b[1;34m'q'\u001b[0m\u001b[1;33m:\u001b[0m \u001b[0msong_title\u001b[0m \u001b[1;33m+\u001b[0m \u001b[1;34m' '\u001b[0m \u001b[1;33m+\u001b[0m \u001b[0martist_name\u001b[0m\u001b[1;33m}\u001b[0m\u001b[1;33m\u001b[0m\u001b[1;33m\u001b[0m\u001b[0m\n",
      "\u001b[1;31mAttributeError\u001b[0m: module 'secrets' has no attribute 'GENIUS_ACCESS_TOKEN'"
     ]
    }
   ],
   "source": [
    "print(request_song_info(top_songs[i][\"title\"], top_songs[i][\"artist\"]))"
   ]
  },
  {
   "cell_type": "code",
   "execution_count": null,
   "metadata": {},
   "outputs": [],
   "source": []
  }
 ],
 "metadata": {
  "kernelspec": {
   "display_name": "Python 3",
   "language": "python",
   "name": "python3"
  },
  "language_info": {
   "codemirror_mode": {
    "name": "ipython",
    "version": 3
   },
   "file_extension": ".py",
   "mimetype": "text/x-python",
   "name": "python",
   "nbconvert_exporter": "python",
   "pygments_lexer": "ipython3",
   "version": "3.8.1-final"
  }
 },
 "nbformat": 4,
 "nbformat_minor": 4
}