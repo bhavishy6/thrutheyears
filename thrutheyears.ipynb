{
 "cells": [
  {
   "cell_type": "code",
   "execution_count": 64,
   "metadata": {},
   "outputs": [],
   "source": [
    "import pandas as pd\n",
    "import numpy as np\n",
    "import requests\n",
    "from bs4 import BeautifulSoup\n",
    "import secrets\n",
    "import contractions\n",
    "import re\n",
    "import seaborn as sns\n",
    "import matplotlib.pyplot as plt\n",
    "import lyricsgenius\n",
    "from datetime import datetime\n",
    "import spacy\n",
    "import importlib"
   ]
  },
  {
   "cell_type": "code",
   "execution_count": 64,
   "metadata": {},
   "outputs": [],
   "source": [
    "genius = lyricsgenius.Genius(secrets.GENIUS_ACCESS_TOKEN)"
   ]
  },
  {
   "cell_type": "code",
   "execution_count": null,
   "metadata": {},
   "outputs": [],
   "source": [
    "def get_billboard_from_year(start_year, end_year):\n",
    "    years = np.arange(start_year, end_year + 1).astype(int)\n",
    "    top_songs = pd.DataFrame()\n",
    "\n",
    "    for i in range(0, len(years)):\n",
    "        year = years[i]\n",
    "        print(\"Collecting songs from %i...\", year)\n",
    "        url = \"https://www.billboard.com/charts/year-end/\"+ str(year) +\"/hot-100-songs\"\n",
    "        \n",
    "        billboard_page = requests.get(url)\n",
    "        soup = BeautifulSoup(billboard_page.text, \"html.parser\")\n",
    "\n",
    "        titles = [div.text for div in soup.find_all(\"div\", \"ye-chart-item__title\")]\n",
    "        ranks = [div.text for div in soup.find_all(\"div\", \"ye-chart-item__rank\")]\n",
    "        artists = [div.text for div in soup.find_all(\"div\", \"ye-chart-item__artist\")]\n",
    "\n",
    "        for i in range(0, len(ranks)):\n",
    "            row = {\n",
    "                \"Rank\": ranks[i].replace(\"\\n\", \"\").strip(),\n",
    "                \"Song Title\": titles[i].replace(\"\\n\", \"\").strip(),\n",
    "                \"Artist\": artists[i].replace(\"\\n\", \"\").strip(),\n",
    "                \"Year\": int(year)\n",
    "            }\n",
    "            top_songs = top_songs.append(row, ignore_index=True)\n",
    "    return top_songs"
   ]
  },
  {
   "cell_type": "code",
   "execution_count": null,
   "metadata": {},
   "outputs": [],
   "source": [
    "all_songs = get_billboard_from_year(2019, 2019)"
   ]
  },
  {
   "cell_type": "code",
   "execution_count": null,
   "metadata": {},
   "outputs": [],
   "source": [
    "display(all_songs.head(5))\n",
    "display(all_songs.tail(5))\n",
    "display(all_songs.shape)"
   ]
  },
  {
   "cell_type": "code",
   "execution_count": 75,
   "metadata": {},
   "outputs": [],
   "source": [
    "def expand_contractions(text, contraction_mapping=contractions.CONTRACTION_MAP):\n",
    "    print(\"keys: \" + str('|'.join(contraction_mapping.keys())))\n",
    "    contractions_pattern = re.compile('({})'.format('|'.join(contraction_mapping.keys())), \n",
    "                                      flags=re.IGNORECASE|re.DOTALL)\n",
    "    print(\"cont_patt: \" + str(contractions_pattern))\n",
    "    def expand_match(contraction):\n",
    "        match = contraction.group(0)\n",
    "        first_char = match[0]\n",
    "        expanded_contraction = contraction_mapping.get(match)\\\n",
    "                                if contraction_mapping.get(match)\\\n",
    "                                else contraction_mapping.get(match.lower())                       \n",
    "        expanded_contraction = first_char+expanded_contraction[1:]\n",
    "        return expanded_contraction\n",
    "        \n",
    "    expanded_text = contractions_pattern.sub(expand_match, text)\n",
    "    expanded_text = re.sub(\"'\", \"\", expanded_text)\n",
    "    return expanded_text\n"
   ]
  },
  {
   "cell_type": "code",
   "execution_count": null,
   "metadata": {},
   "outputs": [],
   "source": [
    "starttime = datetime.now()\n",
    "print(\"Starting: \" + str(starttime))\n",
    "all_song_data = pd.DataFrame()\n",
    "for i in range(0, len(all_songs)):\n",
    "    song = all_songs.iloc[i]\n",
    "\n",
    "    try:\n",
    "        song_data = genius.search_song(song['Song Title'], song[\"Artist\"])\n",
    "#         print(dir(song_data))\n",
    "        if(song_data):\n",
    "            song_album = song_data.album\n",
    "            featured_artists = song_data.featured_artists\n",
    "            song_lyrics = song_data.lyrics.replace(\"\\n\", \" \")\n",
    "            song_media = song_data.media\n",
    "            song_url = song_data.url\n",
    "            song_writer_artists = song_data.writer_artists\n",
    "            song_producer_artists = song_data.producer_artists if song_data.producer_artists else \"\"\n",
    "            song_album_url = song_data.album_url\n",
    "            song_release_year = song_data.year\n",
    "    except:\n",
    "        song_album = \"null\"\n",
    "        song_album_url = \"null\"\n",
    "        featured_artists = \"null\"\n",
    "        song_lyrics = \"null\"\n",
    "        song_media = \"null\"\n",
    "        song_url = \"null\"\n",
    "        song_writer_artists = \"null\"\n",
    "        song_release_year = \"null\"\n",
    "        song_producer_artists = song_data.producer_artists\n",
    "        song_album_url = song_data.album_url\n",
    "        song_release_year = song_data.year\n",
    "        \n",
    "    row = {\n",
    "        \"Year\": song['Year'],\n",
    "        \"Charting Rank\": song['Rank'],\n",
    "        \"Song Title\": song['Song Title'],\n",
    "        \"Artist\": song['Artist'],\n",
    "        \"Album\": song_album ,\n",
    "        \"Producers\": song_producer_artists,\n",
    "        \"Writers\": song_writer_artists,\n",
    "        \"Album URL\": song_album_url,\n",
    "        \"Featured Artists\": featured_artists,\n",
    "        \"Lyrics\":  song_lyrics,\n",
    "        \"URL\": song_url,\n",
    "        \"Media\": song_media,\n",
    "        \"Release Year\": song_release_year\n",
    "    }\n",
    "    all_song_data = all_song_data.append(row, ignore_index=True)\n",
    "\n",
    "endtime = datetime.now()\n",
    "print(\"Finished Job: \" + str(endtime))\n",
    "print(\"Elapsed Time: \" + str(endtime - starttime))\n"
   ]
  },
  {
   "cell_type": "code",
   "execution_count": null,
   "metadata": {},
   "outputs": [],
   "source": [
    "# all_song_data.to_pickle(r\"stored_song_data.pickle\")"
   ]
  },
  {
   "cell_type": "code",
   "execution_count": null,
   "metadata": {},
   "outputs": [],
   "source": [
    "loaded_song_data = pd.read_pickle(\"stored_song_data.pickle\")"
   ]
  },
  {
   "cell_type": "code",
   "execution_count": null,
   "metadata": {},
   "outputs": [],
   "source": [
    "expand_contractions(all_song_data['Lyrics'])"
   ]
  },
  {
   "cell_type": "code",
   "execution_count": null,
   "metadata": {},
   "outputs": [],
   "source": [
    "display(loaded_song_data.head(5))\n",
    "display(loaded_song_data.shape)"
   ]
  },
  {
   "cell_type": "code",
   "execution_count": null,
   "metadata": {},
   "outputs": [],
   "source": [
    "def plot_count_by_year(dataset):\n",
    "    ['Year'], ['Rank']\n",
    "    grouped_dataset = dataset.groupby('Year')\n",
    "    sns.barplot(y=grouped_dataset['Charting Rank'].count(), x=grouped_dataset.count().index)\n",
    "    plt.title(\"Number of songs with Genius data by year\")\n",
    "    plt.ylabel(\"Number of Songs\")"
   ]
  },
  {
   "cell_type": "code",
   "execution_count": null,
   "metadata": {},
   "outputs": [],
   "source": [
    "plot_count_by_year(loaded_song_data)"
   ]
  },
  {
   "cell_type": "code",
   "execution_count": 9,
   "metadata": {},
   "outputs": [],
   "source": [
    "nlp = spacy.load(\"en_core_web_sm\")\n",
    "\n",
    "def add_spacy_data(dataset):\n",
    "    \n",
    "    verbs = []\n",
    "    nouns = []\n",
    "    adverbs = []\n",
    "    corpus = []\n",
    "#     entities = []\n",
    "    for i in range(0, len(dataset)):\n",
    "        print(\"SpaCy now processing {} by {}\".format(dataset.iloc[i]['Song Title'], dataset.iloc[i]['Artist']))\n",
    "        song = re.sub(r'\\n', '', dataset.iloc[i][\"Lyrics\"])\n",
    "        doc = nlp(song)\n",
    "        spacy_df = pd.DataFrame()\n",
    "        for token in doc:\n",
    "            row = {\n",
    "                \"word\": token.text,\n",
    "                \"lemma\": token.lemma_ if token.lemma_ != \"-PRON-\" else token.text ,\n",
    "                \"pos\": token.pos_,\n",
    "                \"stop word\": token.is_stop,\n",
    "            }\n",
    "            spacy_df = spacy_df.append(row, ignore_index=True)\n",
    "        verbs.append(\" \".join(spacy_df['lemma'][spacy_df[\"pos\"] == \"VERB\"].values))\n",
    "        nouns.append(\" \".join(spacy_df['lemma'][spacy_df[\"pos\"] == \"NOUN\"].values))\n",
    "        adverbs.append(\" \".join(spacy_df['lemma'][spacy_df[\"pos\"] == \"ADV\"].values))\n",
    "        corpus1 = \" \".join(spacy_df['lemma'][spacy_df[\"stop word\"] == False].values)\n",
    "        corpus1 = re.sub(r'[^A-Za-z0-9]+', ' ', corpus1)\n",
    "        corpus.append(corpus1)\n",
    "#         entities = entities.append[doc.ents]\n",
    "    dataset['Verbs'] = verbs\n",
    "    dataset['Nouns'] = nouns\n",
    "    dataset['Adverbs'] = adverbs\n",
    "    dataset['Corpus'] = corpus\n",
    "#     dataset['Entities'] = entities\n",
    "    return dataset"
   ]
  },
  {
   "cell_type": "code",
   "execution_count": null,
   "metadata": {},
   "outputs": [],
   "source": [
    "add_spacy_data(loaded_song_data)"
   ]
  },
  {
   "cell_type": "code",
   "execution_count": null,
   "metadata": {
    "scrolled": true
   },
   "outputs": [],
   "source": [
    "loaded_song_data.to_pickle(r\"stored_song_data_with_spacy.pickle\")"
   ]
  },
  {
   "cell_type": "code",
   "execution_count": 5,
   "metadata": {},
   "outputs": [],
   "source": [
    "loaded_song_data_with_spacy =  pd.read_pickle(\"stored_song_data_with_spacy.pickle\")"
   ]
  },
  {
   "cell_type": "code",
   "execution_count": 6,
   "metadata": {},
   "outputs": [
    {
     "data": {
      "text/html": [
       "<div>\n",
       "<style scoped>\n",
       "    .dataframe tbody tr th:only-of-type {\n",
       "        vertical-align: middle;\n",
       "    }\n",
       "\n",
       "    .dataframe tbody tr th {\n",
       "        vertical-align: top;\n",
       "    }\n",
       "\n",
       "    .dataframe thead th {\n",
       "        text-align: right;\n",
       "    }\n",
       "</style>\n",
       "<table border=\"1\" class=\"dataframe\">\n",
       "  <thead>\n",
       "    <tr style=\"text-align: right;\">\n",
       "      <th></th>\n",
       "      <th>Album</th>\n",
       "      <th>Album URL</th>\n",
       "      <th>Artist</th>\n",
       "      <th>Charting Rank</th>\n",
       "      <th>Featured Artists</th>\n",
       "      <th>Lyrics</th>\n",
       "      <th>Media</th>\n",
       "      <th>Producers</th>\n",
       "      <th>Release Year</th>\n",
       "      <th>Song Title</th>\n",
       "      <th>URL</th>\n",
       "      <th>Writers</th>\n",
       "      <th>Year</th>\n",
       "      <th>Verbs</th>\n",
       "      <th>Nouns</th>\n",
       "      <th>Adverbs</th>\n",
       "      <th>Corpus</th>\n",
       "    </tr>\n",
       "  </thead>\n",
       "  <tbody>\n",
       "    <tr>\n",
       "      <th>0</th>\n",
       "      <td>÷ (Divide)</td>\n",
       "      <td>https://genius.com/albums/Ed-sheeran/Divide</td>\n",
       "      <td>Ed Sheeran</td>\n",
       "      <td>1</td>\n",
       "      <td>[]</td>\n",
       "      <td>[Verse 1]\\nThe club isn't the best place to fi...</td>\n",
       "      <td>[{'provider': 'youtube', 'start': 0, 'type': '...</td>\n",
       "      <td>[{'api_path': '/artists/12418', 'header_image_...</td>\n",
       "      <td>2017-01-06</td>\n",
       "      <td>Shape Of You</td>\n",
       "      <td>https://genius.com/Ed-sheeran-shape-of-you-lyrics</td>\n",
       "      <td>[{'api_path': '/artists/7393', 'header_image_u...</td>\n",
       "      <td>2017.0</td>\n",
       "      <td>find gome do talk come start trust will give n...</td>\n",
       "      <td>verse club place loverso bar friend table shot...</td>\n",
       "      <td>where fast then just then now now too now now ...</td>\n",
       "      <td>verse 1 The club good place find loverso bar ...</td>\n",
       "    </tr>\n",
       "    <tr>\n",
       "      <th>1</th>\n",
       "      <td>Google Translate Sings</td>\n",
       "      <td>https://genius.com/albums/Malinda/Google-trans...</td>\n",
       "      <td>Luis Fonsi &amp; Daddy Yankee Featuring Justin Bieber</td>\n",
       "      <td>2</td>\n",
       "      <td>[]</td>\n",
       "      <td>[Intro]\\nCome at me\\nMany priests, the good th...</td>\n",
       "      <td>[{'provider': 'youtube', 'start': 0, 'type': '...</td>\n",
       "      <td></td>\n",
       "      <td>2017-07-19</td>\n",
       "      <td>Despacito</td>\n",
       "      <td>https://genius.com/Malinda-google-translate-si...</td>\n",
       "      <td>[{'api_path': '/artists/1460051', 'header_imag...</td>\n",
       "      <td>2017.0</td>\n",
       "      <td>make feel want put seem feel can spend make co...</td>\n",
       "      <td>priest thing condition dayHe night equality lo...</td>\n",
       "      <td>slowly slowly how how only very how soonsimply...</td>\n",
       "      <td>Intro Come memany priest good thing therechan...</td>\n",
       "    </tr>\n",
       "    <tr>\n",
       "      <th>2</th>\n",
       "      <td>24K Magic</td>\n",
       "      <td>https://genius.com/albums/Bruno-mars/24k-magic</td>\n",
       "      <td>Bruno Mars</td>\n",
       "      <td>3</td>\n",
       "      <td>[]</td>\n",
       "      <td>[Verse 1]\\nHey, hey, hey\\nI got a condo in Man...</td>\n",
       "      <td>[{'native_uri': 'spotify:track:0KKkJNfGyhkQ5aF...</td>\n",
       "      <td>[{'api_path': '/artists/1012903', 'header_imag...</td>\n",
       "      <td>2016-01-30</td>\n",
       "      <td>That's What I Like</td>\n",
       "      <td>https://genius.com/Bruno-mars-thats-what-i-lik...</td>\n",
       "      <td>[{'api_path': '/artists/1035208', 'header_imag...</td>\n",
       "      <td>2017.0</td>\n",
       "      <td>get pop pop drop drop rent -ami)wake serve get...</td>\n",
       "      <td>condo girl ass gon playerdrop beach house jamm...</td>\n",
       "      <td>around just alland so never never just alland ...</td>\n",
       "      <td>Verse 1 hey hey heyI get condo ManhattanBaby ...</td>\n",
       "    </tr>\n",
       "    <tr>\n",
       "      <th>3</th>\n",
       "      <td>DAMN.</td>\n",
       "      <td>https://genius.com/albums/Kendrick-lamar/Damn</td>\n",
       "      <td>Kendrick Lamar</td>\n",
       "      <td>4</td>\n",
       "      <td>[]</td>\n",
       "      <td>[Intro]\\nNobody pray for me\\nIt's been that da...</td>\n",
       "      <td>[{'provider': 'youtube', 'start': 6, 'type': '...</td>\n",
       "      <td>[{'api_path': '/artists/627151', 'header_image...</td>\n",
       "      <td>2017-03-30</td>\n",
       "      <td>Humble.</td>\n",
       "      <td>https://genius.com/Kendrick-lamar-humble-lyrics</td>\n",
       "      <td>[{'api_path': '/artists/93851', 'header_image_...</td>\n",
       "      <td>2017.0</td>\n",
       "      <td>pray remember allowancesfinesse be live aid ca...</td>\n",
       "      <td>day meway syrup sandwich crime nigga counterfe...</td>\n",
       "      <td>now where way too then just still still just u...</td>\n",
       "      <td>intro nobody pray meIt day meway yeah yeah Ve...</td>\n",
       "    </tr>\n",
       "    <tr>\n",
       "      <th>4</th>\n",
       "      <td>Memories...Do Not Open</td>\n",
       "      <td>https://genius.com/albums/The-chainsmokers/Mem...</td>\n",
       "      <td>The Chainsmokers &amp; Coldplay</td>\n",
       "      <td>5</td>\n",
       "      <td>[]</td>\n",
       "      <td>[Verse 1: Chris Martin]\\nI've been reading boo...</td>\n",
       "      <td>[{'provider': 'youtube', 'start': 0, 'type': '...</td>\n",
       "      <td>[{'api_path': '/artists/1030536', 'header_imag...</td>\n",
       "      <td>2017-02-22</td>\n",
       "      <td>Something Just Like This</td>\n",
       "      <td>https://genius.com/The-chainsmokers-and-coldpl...</td>\n",
       "      <td>[{'api_path': '/artists/150934', 'header_image...</td>\n",
       "      <td>2017.0</td>\n",
       "      <td>read see say look can turn can kiss[bridge wan...</td>\n",
       "      <td>verse book legend mythsachille goldhercule gif...</td>\n",
       "      <td>clearly where much just just just just where m...</td>\n",
       "      <td>verse 1 Chris martin i ve read book oldthe le...</td>\n",
       "    </tr>\n",
       "  </tbody>\n",
       "</table>\n",
       "</div>"
      ],
      "text/plain": [
       "                    Album                                          Album URL  \\\n",
       "0              ÷ (Divide)        https://genius.com/albums/Ed-sheeran/Divide   \n",
       "1  Google Translate Sings  https://genius.com/albums/Malinda/Google-trans...   \n",
       "2               24K Magic     https://genius.com/albums/Bruno-mars/24k-magic   \n",
       "3                   DAMN.      https://genius.com/albums/Kendrick-lamar/Damn   \n",
       "4  Memories...Do Not Open  https://genius.com/albums/The-chainsmokers/Mem...   \n",
       "\n",
       "                                              Artist Charting Rank  \\\n",
       "0                                         Ed Sheeran             1   \n",
       "1  Luis Fonsi & Daddy Yankee Featuring Justin Bieber             2   \n",
       "2                                         Bruno Mars             3   \n",
       "3                                     Kendrick Lamar             4   \n",
       "4                        The Chainsmokers & Coldplay             5   \n",
       "\n",
       "  Featured Artists                                             Lyrics  \\\n",
       "0               []  [Verse 1]\\nThe club isn't the best place to fi...   \n",
       "1               []  [Intro]\\nCome at me\\nMany priests, the good th...   \n",
       "2               []  [Verse 1]\\nHey, hey, hey\\nI got a condo in Man...   \n",
       "3               []  [Intro]\\nNobody pray for me\\nIt's been that da...   \n",
       "4               []  [Verse 1: Chris Martin]\\nI've been reading boo...   \n",
       "\n",
       "                                               Media  \\\n",
       "0  [{'provider': 'youtube', 'start': 0, 'type': '...   \n",
       "1  [{'provider': 'youtube', 'start': 0, 'type': '...   \n",
       "2  [{'native_uri': 'spotify:track:0KKkJNfGyhkQ5aF...   \n",
       "3  [{'provider': 'youtube', 'start': 6, 'type': '...   \n",
       "4  [{'provider': 'youtube', 'start': 0, 'type': '...   \n",
       "\n",
       "                                           Producers Release Year  \\\n",
       "0  [{'api_path': '/artists/12418', 'header_image_...   2017-01-06   \n",
       "1                                                      2017-07-19   \n",
       "2  [{'api_path': '/artists/1012903', 'header_imag...   2016-01-30   \n",
       "3  [{'api_path': '/artists/627151', 'header_image...   2017-03-30   \n",
       "4  [{'api_path': '/artists/1030536', 'header_imag...   2017-02-22   \n",
       "\n",
       "                 Song Title  \\\n",
       "0              Shape Of You   \n",
       "1                 Despacito   \n",
       "2        That's What I Like   \n",
       "3                   Humble.   \n",
       "4  Something Just Like This   \n",
       "\n",
       "                                                 URL  \\\n",
       "0  https://genius.com/Ed-sheeran-shape-of-you-lyrics   \n",
       "1  https://genius.com/Malinda-google-translate-si...   \n",
       "2  https://genius.com/Bruno-mars-thats-what-i-lik...   \n",
       "3    https://genius.com/Kendrick-lamar-humble-lyrics   \n",
       "4  https://genius.com/The-chainsmokers-and-coldpl...   \n",
       "\n",
       "                                             Writers    Year  \\\n",
       "0  [{'api_path': '/artists/7393', 'header_image_u...  2017.0   \n",
       "1  [{'api_path': '/artists/1460051', 'header_imag...  2017.0   \n",
       "2  [{'api_path': '/artists/1035208', 'header_imag...  2017.0   \n",
       "3  [{'api_path': '/artists/93851', 'header_image_...  2017.0   \n",
       "4  [{'api_path': '/artists/150934', 'header_image...  2017.0   \n",
       "\n",
       "                                               Verbs  \\\n",
       "0  find gome do talk come start trust will give n...   \n",
       "1  make feel want put seem feel can spend make co...   \n",
       "2  get pop pop drop drop rent -ami)wake serve get...   \n",
       "3  pray remember allowancesfinesse be live aid ca...   \n",
       "4  read see say look can turn can kiss[bridge wan...   \n",
       "\n",
       "                                               Nouns  \\\n",
       "0  verse club place loverso bar friend table shot...   \n",
       "1  priest thing condition dayHe night equality lo...   \n",
       "2  condo girl ass gon playerdrop beach house jamm...   \n",
       "3  day meway syrup sandwich crime nigga counterfe...   \n",
       "4  verse book legend mythsachille goldhercule gif...   \n",
       "\n",
       "                                             Adverbs  \\\n",
       "0  where fast then just then now now too now now ...   \n",
       "1  slowly slowly how how only very how soonsimply...   \n",
       "2  around just alland so never never just alland ...   \n",
       "3  now where way too then just still still just u...   \n",
       "4  clearly where much just just just just where m...   \n",
       "\n",
       "                                              Corpus  \n",
       "0   verse 1 The club good place find loverso bar ...  \n",
       "1   Intro Come memany priest good thing therechan...  \n",
       "2   Verse 1 hey hey heyI get condo ManhattanBaby ...  \n",
       "3   intro nobody pray meIt day meway yeah yeah Ve...  \n",
       "4   verse 1 Chris martin i ve read book oldthe le...  "
      ]
     },
     "metadata": {},
     "output_type": "display_data"
    }
   ],
   "source": [
    "display(loaded_song_data_with_spacy.head())\n"
   ]
  },
  {
   "cell_type": "code",
   "execution_count": 71,
   "metadata": {},
   "outputs": [
    {
     "data": {
      "text/plain": [
       "<module 'contractions' from 'C:\\\\Users\\\\bhavi\\\\Documents\\\\Coding\\\\thrutheyears\\\\contractions.py'>"
      ]
     },
     "execution_count": 71,
     "metadata": {},
     "output_type": "execute_result"
    }
   ],
   "source": [
    "importlib.reload(contractions)"
   ]
  },
  {
   "cell_type": "code",
   "execution_count": 72,
   "metadata": {},
   "outputs": [],
   "source": [
    "def expand_contractions(text, contraction_mapping=contractions.CONTRACTION_MAP):\n",
    "    contractions_pattern = re.compile('({})'.format('|'.join(contraction_mapping.keys())), \n",
    "                                      flags=re.IGNORECASE|re.DOTALL)\n",
    "#     contractions_pattern = re.compile('|'.join(contraction_mapping.keys()), \n",
    "#                                       flags=re.IGNORECASE|re.DOTALL)\n",
    "    print(contractions_pattern.pattern)\n",
    "    def expand_match(contraction):\n",
    "        match = contraction.group(0)\n",
    "        first_char = match[0]\n",
    "        expanded_contraction = contraction_mapping.get(match)\\\n",
    "                                if contraction_mapping.get(match)\\\n",
    "                                else contraction_mapping.get(match.lower())  \n",
    "        if first_char != \"'\":\n",
    "            expanded_contraction = first_char+expanded_contraction[1:]\n",
    "#         print(match + \": \"+ expanded_contraction)\n",
    "        return expanded_contraction\n",
    "        \n",
    "        \n",
    "    expanded_text = contractions_pattern.sub(expand_match, text)\n",
    "    expanded_text = re.sub(\"'\", \"\", expanded_text)\n",
    "    return expanded_text"
   ]
  },
  {
   "cell_type": "code",
   "execution_count": null,
   "metadata": {},
   "outputs": [],
   "source": [
    "def remove_adlibs(text):\n",
    "    "
   ]
  },
  {
   "cell_type": "code",
   "execution_count": 73,
   "metadata": {},
   "outputs": [
    {
     "name": "stdout",
     "output_type": "stream",
     "text": [
      "(ain't|aren't|can't|can't've|'cause|could've|couldn't|couldn't've|didn't|doesn't|don't|hadn't|hadn't've|hasn't|haven't|he'd|he'd've|he'll|he'll've|he's|how'd|how'd'y|how'll|how's|I'd|I'd've|I'll|I'll've|I'm|I've|i'd|i'd've|i'll|i'll've|i'm|i've|isn't|it'd|it'd've|it'll|it'll've|it's|let's|ma'am|mayn't|might've|mightn't|mightn't've|must've|mustn't|mustn't've|needn't|needn't've|o'clock|oughtn't|oughtn't've|shan't|sha'n't|shan't've|she'd|she'd've|she'll|she'll've|she's|should've|shouldn't|shouldn't've|so've|so's|that'd|that'd've|that's|there'd|there'd've|there's|they'd|they'd've|they'll|they'll've|they're|they've|to've|wasn't|we'd|we'd've|we'll|we'll've|we're|we've|weren't|what'll|what'll've|what're|what's|what've|when's|when've|where'd|where's|where've|who'll|who'll've|who's|who've|why's|why've|will've|won't|won't've|would've|wouldn't|wouldn't've|y'all|y'all'd|y'all'd've|y'all're|y'all've|you'd|you'd've|you'll|you'll've|you're|you've|cali|cali'|smokin'|'em |gonna|gon'|nawf|nothin'|cookin'|sluttin'|duckin'|hangin'|playin'|bustin'|shoppin'|whippin'|watchin'|switchin'|wakin'|losin'|snakin'|winnin'|countin'|choosin'|holdin'|dabbin'|makin'|rollie|trappin'|somethin'|lil'|fuckin'|pourin'|frontin'|'rari|lamb'|'sace|hol'|bih)\n"
     ]
    },
    {
     "data": {
      "text/plain": [
       "'[Intro]\\nNobody pray for me\\nIt is been that day for me\\nWay (Yeah, yeah)\\n\\n[Verse 1]\\nAyy, I remember syrup sandwiches and crime allowances\\nFinesse a nigga with some counterfeits, but now I’m counting this\\nParmesan where my accountant lives, in fact I am downin’ this\\nDUSSÉ with my boo bae tastes like Kool-Aid for the analysts\\nGirl, I can buy your ass the world with my paystub\\nOoh, that pussy good, will not you sit it on my taste bloods?\\nI get way too petty once you let me do the extras\\nPull up on your block, then break it down: we playing Tetris\\nAM to the PM, PM to the AM, funk\\nPiss out your per diem, you just gotta hate em, funk\\nIf I quit your BM, I still ride Mercedes, funk\\nIf I quit this season, I still be the greatest, funk\\nMy left stroke just went viral\\nRight stroke put little baby in a spiral\\nSoprano C, we like to keep it on a high note\\nIt is levels to it, you and I know\\n\\n[Chorus]\\nBitch, be humble (Hold up, bitch)\\nSit down (Hol’ up, lil’, hold up, lil’ bitch)\\nBe humble (Hold up, bitch)\\nSit down (Hold up, sit down, little, sit down, lil’ bitch)\\nBe humble (Hold up, hold up)\\nBitch, sit down (Hold up, hold up, little bitch)\\nBe humble (Little bitch, hold up, bitch)\\nSit down (Hold up, hold up, hold up, hold up)\\nBe humble (Hold up, hold up)\\nSit down (Hold up, hold up, little, hold up, little bitch)\\nBe humble (Hold up, bitch)\\nSit down (Hold up, sit down, little, sit down, little bitch)\\nBe humble (Hold up, hold up)\\nBitch, sit down (Hold up, hold up, little bitch)\\nBe humble (Little bitch, hold up, bitch)\\nSit down (Hold up, hold up, hold up, hold up)\\n\\n[Verse 2]\\nWho that nigga thinkin that he fronting on Man-Man? (Man-Man)\\nGet the fuck off my stage, I am the Sandman (Sandman)\\nGet the fuck off my dick, that as not right\\nI make a play fucking up your whole life\\nI am so fucking sick and tired of the Photoshop\\nShow me something natural like afro on Richard Pryor\\nShow me something natural like ass with some stretch marks\\nStill will take you down right on your mamas couch in Polo socks\\nAyy, this shit way too crazy, ayy, you do not amaze me, ayy\\nI blew cool from AC, ayy, Obama just paged me, ayy\\nI do not fabricate it, ayy, most of you all be fakin, ayy\\nI stay modest bout it, ayy, she elaborate it, ayy\\nThis that Grey Poupon, that Evian, that TED Talk, ayy\\nWatch my soul speak, you let the meds talk, ayy\\nIf I kill a nigga, it will not be the alcohol, ayy\\nI am the realest nigga after all\\n\\n[Chorus]\\nBitch, be humble (Hold up, bitch)\\nSit down (Hold up, little, hold up, little bitch)\\nBe humble (Hold up, bitch)\\nSit down (Hold up, sit down, little, sit down, little bitch)\\nBe humble (Hold up, hold up)\\nBitch, sit down (Hold up, hold up, little bitch)\\nBe humble (Little bitch, hold up, bitch)\\nSit down (Hold up, hold up, hold up, hold up)\\nBe humble (Hold up, hold up)\\nSit down (Hold up, hold up, little, hold up, little bitch)\\nBe humble (Hold up, bitch)\\nSit down (Hold up, sit down, little, sit down, little bitch)\\nBe humble (Hold up, hold up)\\nBitch, sit down (Hold up, hold up, little bitch)\\nBe humble (Little bitch, hold up, bitch)\\nSit down (Hold up, hold up, hold up, hold up)'"
      ]
     },
     "metadata": {},
     "output_type": "display_data"
    },
    {
     "data": {
      "text/plain": [
       "\"[Intro]\\nNobody pray for me\\nIt's been that day for me\\nWay (Yeah, yeah)\\n\\n[Verse 1]\\nAyy, I remember syrup sandwiches and crime allowances\\nFinesse a nigga with some counterfeits, but now I’m countin' this\\nParmesan where my accountant lives, in fact I'm downin’ this\\nD'USSÉ with my boo bae tastes like Kool-Aid for the analysts\\nGirl, I can buy your ass the world with my paystub\\nOoh, that pussy good, won't you sit it on my taste bloods?\\nI get way too petty once you let me do the extras\\nPull up on your block, then break it down: we playin' Tetris\\nAM to the PM, PM to the AM, funk\\nPiss out your per diem, you just gotta hate 'em, funk\\nIf I quit your BM, I still ride Mercedes, funk\\nIf I quit this season, I still be the greatest, funk\\nMy left stroke just went viral\\nRight stroke put lil' baby in a spiral\\nSoprano C, we like to keep it on a high note\\nIt's levels to it, you and I know\\n\\n[Chorus]\\nBitch, be humble (Hol' up, bitch)\\nSit down (Hol’ up, lil’, hol' up, lil’ bitch)\\nBe humble (Hol' up, bitch)\\nSit down (Hol' up, sit down, lil', sit down, lil’ bitch)\\nBe humble (Hol' up, hol' up)\\nBitch, sit down (Hol' up, hol' up, lil' bitch)\\nBe humble (Lil' bitch, hol' up, bitch)\\nSit down (Hol' up, hol' up, hol' up, hol' up)\\nBe humble (Hol' up, hol' up)\\nSit down (Hol' up, hol' up, lil', hol' up, lil' bitch)\\nBe humble (Hol' up, bitch)\\nSit down (Hol' up, sit down, lil', sit down, lil' bitch)\\nBe humble (Hol' up, hol' up)\\nBitch, sit down (Hol' up, hol' up, lil' bitch)\\nBe humble (Lil' bitch, hol' up, bitch)\\nSit down (Hol' up, hol' up, hol' up, hol' up)\\n\\n[Verse 2]\\nWho that nigga thinkin' that he frontin' on Man-Man? (Man-Man)\\nGet the fuck off my stage, I'm the Sandman (Sandman)\\nGet the fuck off my dick, that ain't right\\nI make a play fucking up your whole life\\nI'm so fuckin' sick and tired of the Photoshop\\nShow me somethin' natural like afro on Richard Pryor\\nShow me somethin' natural like ass with some stretch marks\\nStill will take you down right on your mama's couch in Polo socks\\nAyy, this shit way too crazy, ayy, you do not amaze me, ayy\\nI blew cool from AC, ayy, Obama just paged me, ayy\\nI don't fabricate it, ayy, most of y'all be fakin', ayy\\nI stay modest 'bout it, ayy, she elaborate it, ayy\\nThis that Grey Poupon, that Evian, that TED Talk, ayy\\nWatch my soul speak, you let the meds talk, ayy\\nIf I kill a nigga, it won't be the alcohol, ayy\\nI'm the realest nigga after all\\n\\n[Chorus]\\nBitch, be humble (Hol' up, bitch)\\nSit down (Hol' up, lil', hol' up, lil' bitch)\\nBe humble (Hol' up, bitch)\\nSit down (Hol' up, sit down, lil', sit down, lil' bitch)\\nBe humble (Hol' up, hol' up)\\nBitch, sit down (Hol' up, hol' up, lil' bitch)\\nBe humble (Lil' bitch, hol' up, bitch)\\nSit down (Hol' up, hol' up, hol' up, hol' up)\\nBe humble (Hol' up, hol' up)\\nSit down (Hol' up, hol' up, lil', hol' up, lil' bitch)\\nBe humble (Hol' up, bitch)\\nSit down (Hol' up, sit down, lil', sit down, lil' bitch)\\nBe humble (Hol' up, hol' up)\\nBitch, sit down (Hol' up, hol' up, lil' bitch)\\nBe humble (Lil' bitch, hol' up, bitch)\\nSit down (Hol' up, hol' up, hol' up, hol' up)\""
      ]
     },
     "metadata": {},
     "output_type": "display_data"
    }
   ],
   "source": [
    "# testing expanding contractions.. will have to take place in cleaning lyrics after getting from genius api\n",
    "ti =3 #3 = humble 5 = bad and boujee\n",
    "song = loaded_song_data_with_spacy.iloc[ti]\n",
    "# lyrics = re.sub(r'\\n', ' ', song['Lyrics'])\n",
    "lyrics = song['Lyrics']\n",
    "lyrics_contr = expand_contractions(lyrics)\n",
    "corpus = song['Corpus']\n",
    "doc = nlp(lyrics_contr)\n",
    "spacy_df = pd.DataFrame()\n",
    "ents = [(i, i.label_, i.label) for i in doc.ents]\n",
    "display(lyrics_contr)\n",
    "display(lyrics)\n",
    "# print(lyrics_hol)\n",
    "# display(find_all_ing_contractions(lyrics_hol))\n",
    "# print(\"{} by {}: {}\\n\".format(song['Song Title'], song['Artist'], ents))"
   ]
  },
  {
   "cell_type": "code",
   "execution_count": null,
   "metadata": {},
   "outputs": [],
   "source": [
    "t = nlp(\"Sandman\")\n",
    "ents = [(i, i.label_, i.label) for i in t.ents]\n",
    "print(ents)"
   ]
  }
 ],
 "metadata": {
  "kernelspec": {
   "display_name": "Python 3",
   "language": "python",
   "name": "python3"
  },
  "language_info": {
   "codemirror_mode": {
    "name": "ipython",
    "version": 3
   },
   "file_extension": ".py",
   "mimetype": "text/x-python",
   "name": "python",
   "nbconvert_exporter": "python",
   "pygments_lexer": "ipython3",
   "version": "3.8.1"
  }
 },
 "nbformat": 4,
 "nbformat_minor": 4
}
